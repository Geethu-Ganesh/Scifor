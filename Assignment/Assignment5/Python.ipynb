{
 "cells": [
  {
   "cell_type": "markdown",
   "id": "0cd64756",
   "metadata": {},
   "source": [
    "### Datatypes"
   ]
  },
  {
   "cell_type": "code",
   "execution_count": 1,
   "id": "fd391fae",
   "metadata": {},
   "outputs": [
    {
     "name": "stdout",
     "output_type": "stream",
     "text": [
      "no of elements:3\n",
      "enter elements:hi\n",
      "enter elements:hello\n",
      "enter elements:good\n",
      "['hi', 'good', 'hello']\n"
     ]
    }
   ],
   "source": [
    "'''Program to sort a list according to the length of the elements.'''\n",
    "a=[]\n",
    "n=int(input(\"no of elements:\"))\n",
    "for i in range(0,n):\n",
    "    b=(input(\"enter elements:\"))\n",
    "    a.append(b)\n",
    "a.sort(key=len)\n",
    "print(a)"
   ]
  },
  {
   "cell_type": "code",
   "execution_count": 2,
   "id": "0465c57f",
   "metadata": {},
   "outputs": [
    {
     "name": "stdout",
     "output_type": "stream",
     "text": [
      "rur\n",
      "nan\n"
     ]
    }
   ],
   "source": [
    "'''Python program to count the number of strings where the string length is 2 or more and \n",
    "the first and last character are same from a given list of strings.'''\n",
    "l=[\"apple\",\"cat\",\"rur\",\"nan\"]\n",
    "for i in l:\n",
    "    if len(i)>2 and (i[0]==i[-1]):\n",
    "        print(i)"
   ]
  },
  {
   "cell_type": "code",
   "execution_count": 3,
   "id": "470fa11b",
   "metadata": {},
   "outputs": [
    {
     "name": "stdout",
     "output_type": "stream",
     "text": [
      "<zip object at 0x00000234EF64E040>\n",
      "{1: 5, 2: 6, 3: 7, 4: 8}\n"
     ]
    }
   ],
   "source": [
    "'''Write a Python program to map two lists into a dictionary.'''\n",
    "l1=[1,2,3,4]\n",
    "l2=[5,6,7,8]\n",
    "a=zip(l1,l2)     #zip function used to pair 2 lists\n",
    "print(a)\n",
    "print(dict(a))"
   ]
  },
  {
   "cell_type": "markdown",
   "id": "8721d7a6",
   "metadata": {},
   "source": [
    "### Function"
   ]
  },
  {
   "cell_type": "code",
   "execution_count": 4,
   "id": "f17030fd",
   "metadata": {},
   "outputs": [
    {
     "name": "stdout",
     "output_type": "stream",
     "text": [
      "enter first number:2\n",
      "enter second number:4\n",
      "enter operation:+\n",
      "6\n"
     ]
    }
   ],
   "source": [
    "# Use case\n",
    "'''Python function to Make a Simple Calculator'''\n",
    "def calculator():\n",
    "    x=int(input(\"enter first number:\"))\n",
    "    y=int(input(\"enter second number:\"))\n",
    "    o=input(\"enter operation:\")\n",
    "    if o==\"+\":\n",
    "        s=x+y\n",
    "        print(s)\n",
    "    elif o==\"-\":\n",
    "        n=x-y\n",
    "        print(n)\n",
    "    elif o==\"*\":\n",
    "        m=x*y\n",
    "        print(m)\n",
    "    elif o==\"/\":\n",
    "        d=x/y\n",
    "        print(d)\n",
    "    else:\n",
    "        print(\"error\")\n",
    "\n",
    "calculator()"
   ]
  },
  {
   "cell_type": "code",
   "execution_count": 6,
   "id": "e3ed82a4",
   "metadata": {},
   "outputs": [
    {
     "name": "stdout",
     "output_type": "stream",
     "text": [
      "enter number:5\n",
      "odd\n"
     ]
    }
   ],
   "source": [
    "'''Write a Python function to check whether a number is odd or even.'''\n",
    "def evenodd():\n",
    "    n=int(input(\"enter number:\"))\n",
    "    if n%2==0:\n",
    "        print(\"even\")\n",
    "    else:\n",
    "        print(\"odd\")\n",
    "\n",
    "evenodd()"
   ]
  },
  {
   "cell_type": "code",
   "execution_count": 5,
   "id": "93d01402",
   "metadata": {},
   "outputs": [
    {
     "name": "stdout",
     "output_type": "stream",
     "text": [
      "[1, 8, 27, 64, 125]\n"
     ]
    }
   ],
   "source": [
    "# Lambda function\n",
    "l1=[1,2,3,4,5]\n",
    "triple_list=list(map(lambda a:a**3,l1))\n",
    "print(triple_list)"
   ]
  },
  {
   "cell_type": "markdown",
   "id": "7d075313",
   "metadata": {},
   "source": [
    "### Loop"
   ]
  },
  {
   "cell_type": "code",
   "execution_count": 7,
   "id": "e556cdb3",
   "metadata": {},
   "outputs": [
    {
     "name": "stdout",
     "output_type": "stream",
     "text": [
      "enter number:6\n",
      "enter number:8\n",
      "enter number:4\n",
      "enter number:6\n",
      "enter number:4\n",
      "enter number:4\n",
      "enter number:0\n",
      "32\n",
      "4.571428571428571\n"
     ]
    }
   ],
   "source": [
    "# '''16)Write a Python program to calculate the sum and average of n integer numbers (input from the user).\n",
    "#  Input 0 to finish.'''\n",
    "number=1\n",
    "sum=0\n",
    "count=0\n",
    "while(number!=0):\n",
    "    number = int(input('enter number:'))\n",
    "    sum+=number\n",
    "    count+=1\n",
    "    average=sum/count\n",
    "print(sum)\n",
    "print(average)"
   ]
  },
  {
   "cell_type": "code",
   "execution_count": 8,
   "id": "2a490730",
   "metadata": {},
   "outputs": [
    {
     "name": "stdout",
     "output_type": "stream",
     "text": [
      "5\n",
      "4\n",
      "3\n",
      "2\n",
      "1\n"
     ]
    }
   ],
   "source": [
    "'''17) Print list in reverse order using a loop'''\n",
    "l=[1,2,3,4,5]\n",
    "for i in l[::-1]:\n",
    "    print(i)"
   ]
  },
  {
   "cell_type": "code",
   "execution_count": 9,
   "id": "584dd5bf",
   "metadata": {},
   "outputs": [
    {
     "name": "stdout",
     "output_type": "stream",
     "text": [
      "121\n",
      "143\n",
      "165\n",
      "187\n",
      "209\n",
      "231\n",
      "253\n",
      "275\n",
      "297\n",
      "319\n",
      "341\n",
      "363\n",
      "385\n",
      "407\n",
      "429\n",
      "451\n",
      "473\n",
      "495\n"
     ]
    }
   ],
   "source": [
    "'''19) Write a program to display all the numbers which are divisible by 11 but not by 2 between 100\n",
    "# and 500.'''\n",
    "for i in range(100,500):\n",
    "    if (i%11==0) and (i%2!=0):\n",
    "        print(i)"
   ]
  },
  {
   "cell_type": "markdown",
   "id": "cefd6bdd",
   "metadata": {},
   "source": [
    "### OOPS"
   ]
  },
  {
   "cell_type": "code",
   "execution_count": 10,
   "id": "320b876b",
   "metadata": {},
   "outputs": [
    {
     "name": "stdout",
     "output_type": "stream",
     "text": [
      "i can eat\n",
      "i can sleep\n",
      "i can bark\n"
     ]
    }
   ],
   "source": [
    "# Inheritance\n",
    "# parent class\n",
    "class Animal:\n",
    "    \n",
    "    def eat(self):\n",
    "        print(\"i can eat\")\n",
    "        \n",
    "    def sleep(self):\n",
    "        print(\"i can sleep\")\n",
    "\n",
    "# child class\n",
    "class Dog(Animal):\n",
    "    \n",
    "    def bark(self):\n",
    "        print(\"i can bark\")\n",
    " \n",
    "Dog1=Dog()\n",
    "Dog1.eat()\n",
    "Dog1.sleep()\n",
    "Dog1.bark()"
   ]
  },
  {
   "cell_type": "code",
   "execution_count": 11,
   "id": "d4f38b7a",
   "metadata": {},
   "outputs": [
    {
     "name": "stdout",
     "output_type": "stream",
     "text": [
      "I can eat\n",
      "I like to eat bones\n"
     ]
    }
   ],
   "source": [
    "# super method\n",
    "class Animal:\n",
    "\n",
    "    name = \"\"\n",
    "    def eat(self):\n",
    "        print(\"I can eat\")\n",
    "\n",
    "class Dog(Animal):\n",
    "    def eat(self):\n",
    "        super().eat()\n",
    "        \n",
    "        print(\"I like to eat bones\")\n",
    "\n",
    "labrador = Dog()\n",
    "labrador.eat()"
   ]
  },
  {
   "cell_type": "code",
   "execution_count": 12,
   "id": "0678b916",
   "metadata": {},
   "outputs": [
    {
     "name": "stdout",
     "output_type": "stream",
     "text": [
      "Mammals can give direct birth.\n",
      "Winged animals can flap.\n"
     ]
    }
   ],
   "source": [
    "# multiple level inheritance\n",
    "class Mammal:\n",
    "    def mammal_info(self):\n",
    "        print(\"Mammals can give direct birth.\")\n",
    "\n",
    "class WingedAnimal:\n",
    "    def winged_animal_info(self):\n",
    "        print(\"Winged animals can flap.\")\n",
    "\n",
    "class Bat(Mammal, WingedAnimal):\n",
    "    pass \n",
    "\n",
    "b1 = Bat()\n",
    "b1.mammal_info()\n",
    "b1.winged_animal_info()"
   ]
  },
  {
   "cell_type": "code",
   "execution_count": 15,
   "id": "0f0a01d2",
   "metadata": {},
   "outputs": [
    {
     "name": "stdout",
     "output_type": "stream",
     "text": [
      "6\n",
      "2.0\n"
     ]
    }
   ],
   "source": [
    "#4hierarchial inh\n",
    "class calculator:\n",
    "    def add(self,a,b):\n",
    "        return self.a+self.b\n",
    "class der1(calculator):\n",
    "    def mul(self,a,b):\n",
    "        self.a=a\n",
    "        self.b=b\n",
    "        print(self.a*self.b)\n",
    "class der2(calculator):\n",
    "    def div(self,a,b):\n",
    "        self.a = a\n",
    "        self.b = b\n",
    "        print(self.a/self.b)\n",
    "obj=der1()\n",
    "obj.mul(2,3)\n",
    "obj=der2()\n",
    "obj.div(4,2)"
   ]
  },
  {
   "cell_type": "code",
   "execution_count": 13,
   "id": "70d92ec3",
   "metadata": {},
   "outputs": [
    {
     "name": "stdout",
     "output_type": "stream",
     "text": [
      "base\n",
      "2\n"
     ]
    }
   ],
   "source": [
    "# Encapsulation\n",
    "class base:\n",
    "    def __init__(self):\n",
    "        print(\"base\")\n",
    "    def print(self):\n",
    "        self._a=2\n",
    "class derived(base):\n",
    "    def print1(self):\n",
    "        print(self._a)\n",
    "obj=derived()\n",
    "obj.print()\n",
    "obj.print1()"
   ]
  },
  {
   "cell_type": "markdown",
   "id": "7126cadb",
   "metadata": {},
   "source": [
    "### Usecase"
   ]
  },
  {
   "cell_type": "code",
   "execution_count": 14,
   "id": "aee90fa3",
   "metadata": {},
   "outputs": [
    {
     "name": "stdout",
     "output_type": "stream",
     "text": [
      " current balance after withdraw: 1000\n",
      " current balance after deposit: 3000\n",
      "Wrong Pin\n"
     ]
    }
   ],
   "source": [
    "# Use case\n",
    "class BankAccount:\n",
    "#initializing all the necessary variables\n",
    "    def __init__(self,Customer_name,Customer_pin,Bank_balance):\n",
    "        self.Customer_name=Customer_name\n",
    "        self.Customer_pin=Customer_pin\n",
    "        self.Bank_balance=Bank_balance\n",
    "        Bank_balance=2000  #initial amount in account\n",
    "        \n",
    "        \n",
    "    def Withdraw(self,Entered_pin,amount):\n",
    "        if Entered_pin != self.Customer_pin:\n",
    "            print(\"Wrong Pin\")\n",
    "        else:\n",
    "            self.Bank_balance -= amount\n",
    "            print(f\" current balance after withdraw: {self.Bank_balance}\")\n",
    "    \n",
    "    def Deposit(self,amount,Entered_pin):\n",
    "        if Entered_pin != self.Customer_pin:\n",
    "            print(\"Wrong Pin\")\n",
    "        else:\n",
    "            self.Bank_balance += amount\n",
    "            print(f\" current balance after deposit: {self.Bank_balance}\")\n",
    "                  \n",
    "                  \n",
    "Bank_Account1=BankAccount(\"Geethu\",\"1111\",2000)\n",
    "Bank_Account1.Withdraw(\"1111\",1000)\n",
    "Bank_Account1.Deposit(2000,\"1111\")\n",
    "\n",
    "# giving wrong pin\n",
    "Bank_Account1.Deposit(2000,\"1112\")\n"
   ]
  },
  {
   "cell_type": "code",
   "execution_count": null,
   "id": "989458a5",
   "metadata": {},
   "outputs": [],
   "source": []
  }
 ],
 "metadata": {
  "kernelspec": {
   "display_name": "Python 3 (ipykernel)",
   "language": "python",
   "name": "python3"
  },
  "language_info": {
   "codemirror_mode": {
    "name": "ipython",
    "version": 3
   },
   "file_extension": ".py",
   "mimetype": "text/x-python",
   "name": "python",
   "nbconvert_exporter": "python",
   "pygments_lexer": "ipython3",
   "version": "3.9.13"
  }
 },
 "nbformat": 4,
 "nbformat_minor": 5
}
