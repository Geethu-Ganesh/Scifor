{
 "cells": [
  {
   "cell_type": "markdown",
   "id": "5fb502f5",
   "metadata": {},
   "source": [
    "### 1)What is the difference between a list and a tuple in Python?"
   ]
  },
  {
   "cell_type": "markdown",
   "id": "61242973",
   "metadata": {},
   "source": [
    "- __List__\n",
    "- Mutable\n",
    "- Dynamic data\n",
    "- Defined in '[]'\n",
    "- It has several buit-in methods.\n",
    "- Slower and needs more memory"
   ]
  },
  {
   "cell_type": "markdown",
   "id": "c20b80b6",
   "metadata": {},
   "source": [
    "- __Tuple__\n",
    "- Immutable\n",
    "- Static data\n",
    "- Defined in '()'\n",
    "- It has few buit-in methods\n",
    "- Faster and needs less memory"
   ]
  },
  {
   "cell_type": "markdown",
   "id": "cbbb5e76",
   "metadata": {},
   "source": [
    "### 2)How can you iterate through a list in Python? "
   ]
  },
  {
   "cell_type": "markdown",
   "id": "3a9a2434",
   "metadata": {},
   "source": [
    "There are few ways to iterate through list\n",
    "- For loop\n",
    "- While loop\n",
    "- list comprehension\n",
    "- map function\n",
    "- using enumerate"
   ]
  },
  {
   "cell_type": "code",
   "execution_count": 6,
   "id": "70d4dc28",
   "metadata": {},
   "outputs": [
    {
     "name": "stdout",
     "output_type": "stream",
     "text": [
      "1\n",
      "2\n",
      "3\n",
      "4\n",
      "5\n"
     ]
    }
   ],
   "source": [
    "# for loop\n",
    "list1 = [1,2,3,4,5]\n",
    "for item in list1:\n",
    "    print(item)"
   ]
  },
  {
   "cell_type": "code",
   "execution_count": 7,
   "id": "d4b16490",
   "metadata": {},
   "outputs": [
    {
     "name": "stdout",
     "output_type": "stream",
     "text": [
      "1\n",
      "2\n",
      "3\n",
      "4\n",
      "5\n"
     ]
    }
   ],
   "source": [
    "# while loop\n",
    "list1 = [1,2,3,4,5]\n",
    "i = 0\n",
    "while(i<len(list1)):\n",
    "    print(list1[i])\n",
    "    i = i+1"
   ]
  },
  {
   "cell_type": "code",
   "execution_count": 8,
   "id": "ba2a39d1",
   "metadata": {},
   "outputs": [
    {
     "name": "stdout",
     "output_type": "stream",
     "text": [
      "1\n",
      "2\n",
      "3\n",
      "4\n",
      "5\n"
     ]
    },
    {
     "data": {
      "text/plain": [
       "[None, None, None, None, None]"
      ]
     },
     "execution_count": 8,
     "metadata": {},
     "output_type": "execute_result"
    }
   ],
   "source": [
    "# list comprehension\n",
    "list1 = [1,2,3,4,5]\n",
    "[print(item) for item in list1]"
   ]
  },
  {
   "cell_type": "code",
   "execution_count": 9,
   "id": "57b013e9",
   "metadata": {},
   "outputs": [
    {
     "name": "stdout",
     "output_type": "stream",
     "text": [
      "1\n",
      "2\n",
      "3\n",
      "4\n",
      "5\n"
     ]
    },
    {
     "data": {
      "text/plain": [
       "[None, None, None, None, None]"
      ]
     },
     "execution_count": 9,
     "metadata": {},
     "output_type": "execute_result"
    }
   ],
   "source": [
    "# map function\n",
    "list1 = [1,2,3,4,5]\n",
    "list(map(print, list1))"
   ]
  },
  {
   "cell_type": "code",
   "execution_count": 13,
   "id": "99e32ce9",
   "metadata": {},
   "outputs": [
    {
     "name": "stdout",
     "output_type": "stream",
     "text": [
      "(0, 1)\n",
      "(1, 2)\n",
      "(2, 3)\n",
      "(3, 4)\n",
      "(4, 5)\n"
     ]
    }
   ],
   "source": [
    "# using enumerate\n",
    "list1 = [1,2,3,4,5]\n",
    "for item in enumerate(list1):\n",
    "    print(item)"
   ]
  },
  {
   "cell_type": "markdown",
   "id": "042d39e5",
   "metadata": {},
   "source": [
    "### 3)How do you handle exceptions in Python? "
   ]
  },
  {
   "cell_type": "markdown",
   "id": "07c95de8",
   "metadata": {},
   "source": [
    "<!-- try-except block -->\n"
   ]
  },
  {
   "cell_type": "code",
   "execution_count": null,
   "id": "768dccee",
   "metadata": {},
   "outputs": [],
   "source": [
    "# try-except block\n",
    "try:\n",
    "    # code that may cause exception\n",
    "except:\n",
    "    # code to run when exception occurs"
   ]
  },
  {
   "cell_type": "code",
   "execution_count": null,
   "id": "106a6fbe",
   "metadata": {},
   "outputs": [],
   "source": [
    "# multiple exceptions\n",
    "try:\n",
    "    # code that may cause exception\n",
    "except ZeroDivisionError:\n",
    "    print(\"Cannot divide by zero!\")\n",
    "except ValueError:\n",
    "    print(\"Invalid value!\")"
   ]
  },
  {
   "cell_type": "code",
   "execution_count": null,
   "id": "16f1056e",
   "metadata": {},
   "outputs": [],
   "source": [
    "# try-except-else block\n",
    "try:\n",
    "    # code that may cause exception\n",
    "except :\n",
    "    # code to run when exception occurs\n",
    "else:\n",
    "    # remaining code after succesful run of try"
   ]
  },
  {
   "cell_type": "code",
   "execution_count": null,
   "id": "f979487d",
   "metadata": {},
   "outputs": [],
   "source": [
    "# try-finally\n",
    "try:\n",
    "   # code that may cause exception\n",
    "except:\n",
    "    # code to run when exception occurs\n",
    "    \n",
    "finally:\n",
    "    print(\"This is finally block.\")\n",
    "    # finally block always executed no matter whether there is an exception or not"
   ]
  },
  {
   "cell_type": "code",
   "execution_count": null,
   "id": "5642d59c",
   "metadata": {},
   "outputs": [],
   "source": [
    "# custom exception\n",
    "class CustomError(Exception):\n",
    "    ...\n",
    "    pass\n",
    "\n",
    "try:\n",
    "   ...\n",
    "\n",
    "except CustomError:\n",
    "    ...\n",
    "    \n",
    "# user can define custom exceptions by creating a new class that is derived from the built-in Exception class."
   ]
  },
  {
   "cell_type": "markdown",
   "id": "3af3c2ff",
   "metadata": {},
   "source": [
    "### 4)What are list comprehensions in Python? "
   ]
  },
  {
   "cell_type": "markdown",
   "id": "0d473886",
   "metadata": {},
   "source": [
    "- List comprehension is a way to define and create lists based on existing lists.\n",
    "- Syntax- [expression for item in list]"
   ]
  },
  {
   "cell_type": "code",
   "execution_count": 14,
   "id": "1bc43a55",
   "metadata": {},
   "outputs": [
    {
     "name": "stdout",
     "output_type": "stream",
     "text": [
      "['M', 'o', 'r', 'n', 'i', 'n', 'g']\n"
     ]
    }
   ],
   "source": [
    "letters = [ letter for letter in 'Morning' ]\n",
    "print( letters)"
   ]
  },
  {
   "cell_type": "markdown",
   "id": "1838b10e",
   "metadata": {},
   "source": [
    "### 5)What is the purpose of the if __name__ == \"__main__\" statement?"
   ]
  },
  {
   "cell_type": "markdown",
   "id": "7b276ae0",
   "metadata": {},
   "source": [
    " - This statement is used to determine whether a Python script is being run as the main program or being imported as a module into another script.\n",
    " - If the script is being imported as a module into another script, the name variable is set to the name of the script/module.\n",
    " - This is useful for organizing code in a way that it can be both reusable and executable."
   ]
  },
  {
   "cell_type": "markdown",
   "id": "04e489cf",
   "metadata": {},
   "source": [
    "### 6)What is the purpose of the with statement in Python? "
   ]
  },
  {
   "cell_type": "markdown",
   "id": "19d7a2b1",
   "metadata": {},
   "source": [
    "- with statement is often assosiated with file handling.\n",
    " - opening & closing file\n",
    " "
   ]
  },
  {
   "cell_type": "markdown",
   "id": "3254b045",
   "metadata": {},
   "source": [
    "### 7)What are the key features of Spark? "
   ]
  },
  {
   "cell_type": "markdown",
   "id": "4a9d028e",
   "metadata": {},
   "source": [
    "- High Speed\n",
    "- Parallel data processing\n",
    "- Easy to use\n",
    "- Fault tolerance\n",
    "- Scailability\n",
    "- Versatality\n",
    "- Integration\n",
    "- Security\n",
    "- Extensibility"
   ]
  },
  {
   "cell_type": "markdown",
   "id": "da60b3ad",
   "metadata": {},
   "source": [
    "### 8)What are Resilient Distributed Datasets (RDDs) in Spark?"
   ]
  },
  {
   "cell_type": "markdown",
   "id": "7b385be3",
   "metadata": {},
   "source": [
    "- RDD was the primary user-facing API in Spark since Spark 1 at 2011.\n",
    "- Key features of RDD are programming in controlled OOPs and Fault tolerant\n",
    "- Immutable\n",
    "- It allows partitioning"
   ]
  },
  {
   "cell_type": "markdown",
   "id": "782c0135",
   "metadata": {},
   "source": [
    "### 9)What is the difference between a DataFrame and an RDD in Spark?"
   ]
  },
  {
   "cell_type": "markdown",
   "id": "bead8581",
   "metadata": {},
   "source": [
    "- User convenient\n",
    " - Dataframe is more easy to use than RDD\n",
    "- Performance \n",
    " - performance wise better and faster is dataframe\n",
    "- language support\n",
    "- Both have different data structure\n",
    "- Dataframe has schema,not for RDD\n",
    "- Dataframe follows relational database\n",
    "- dataframe has better memmory management than RDD"
   ]
  },
  {
   "cell_type": "markdown",
   "id": "8f85603a",
   "metadata": {},
   "source": [
    "### 10)What is Spark's ecosystem?"
   ]
  },
  {
   "cell_type": "markdown",
   "id": "6bcd5db5",
   "metadata": {},
   "source": [
    "- Apache Spark has a rich and extensive ecosystem of libraries, frameworks, and tools that extend its capabilities and enable a wide range of data processing and analytics tasks. This ecosystem has evolved to meet various big data processing needs.\n",
    "- Ex:Spark core, spark SQL, spark streaming.."
   ]
  },
  {
   "cell_type": "code",
   "execution_count": null,
   "id": "8bd31e36",
   "metadata": {},
   "outputs": [],
   "source": []
  }
 ],
 "metadata": {
  "kernelspec": {
   "display_name": "Python 3 (ipykernel)",
   "language": "python",
   "name": "python3"
  },
  "language_info": {
   "codemirror_mode": {
    "name": "ipython",
    "version": 3
   },
   "file_extension": ".py",
   "mimetype": "text/x-python",
   "name": "python",
   "nbconvert_exporter": "python",
   "pygments_lexer": "ipython3",
   "version": "3.9.13"
  }
 },
 "nbformat": 4,
 "nbformat_minor": 5
}
