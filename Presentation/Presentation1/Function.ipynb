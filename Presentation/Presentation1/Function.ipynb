{
 "cells": [
  {
   "cell_type": "markdown",
   "id": "a48e5046",
   "metadata": {},
   "source": [
    "# Functions"
   ]
  },
  {
   "cell_type": "markdown",
   "id": "be4a1ca5",
   "metadata": {},
   "source": [
    "- A function is a block of code that performs a specific task.\n",
    "- 2 types\n",
    " - Standard library functions\n",
    "    - Ex: print()\n",
    " - User defined functions\n",
    "    - Ex: sum1()..."
   ]
  },
  {
   "cell_type": "markdown",
   "id": "33cade39",
   "metadata": {},
   "source": [
    "## Arguments "
   ]
  },
  {
   "cell_type": "markdown",
   "id": "99902c15",
   "metadata": {},
   "source": [
    "- argument is a value accepted by function\n",
    "- 4 types\n",
    "  - Argument with default values\n",
    "  - Keyword argument\n",
    "  - Arbitrary argument\n",
    "  - Arbitrary keyword argument\n"
   ]
  },
  {
   "cell_type": "markdown",
   "id": "4e87c5ba",
   "metadata": {},
   "source": [
    "### Default"
   ]
  },
  {
   "cell_type": "code",
   "execution_count": 1,
   "id": "388221ec",
   "metadata": {},
   "outputs": [
    {
     "name": "stdout",
     "output_type": "stream",
     "text": [
      "Sum: 5\n",
      "Sum: 10\n",
      "Sum: 15\n"
     ]
    }
   ],
   "source": [
    "def add_numbers( a = 7,  b = 8):\n",
    "    sum = a + b\n",
    "    print('Sum:', sum)\n",
    "\n",
    "# function call with two arguments\n",
    "add_numbers(2, 3)\n",
    "\n",
    "#  function call with one argument\n",
    "add_numbers(a = 2)\n",
    "\n",
    "# function call with no arguments\n",
    "add_numbers()"
   ]
  },
  {
   "cell_type": "markdown",
   "id": "b2a123e8",
   "metadata": {},
   "source": [
    "### Keyword "
   ]
  },
  {
   "cell_type": "code",
   "execution_count": 2,
   "id": "0e132ec4",
   "metadata": {},
   "outputs": [
    {
     "name": "stdout",
     "output_type": "stream",
     "text": [
      "First Name: Eric\n",
      "Last Name: Cartman\n"
     ]
    }
   ],
   "source": [
    "def display_info(first_name, last_name):\n",
    "    print('First Name:', first_name)\n",
    "    print('Last Name:', last_name)\n",
    "\n",
    "display_info(last_name = 'Cartman', first_name = 'Eric')"
   ]
  },
  {
   "cell_type": "markdown",
   "id": "aa3dbf6b",
   "metadata": {},
   "source": [
    "### Arbitary"
   ]
  },
  {
   "cell_type": "code",
   "execution_count": 3,
   "id": "78b4a66d",
   "metadata": {},
   "outputs": [
    {
     "name": "stdout",
     "output_type": "stream",
     "text": [
      "Sum =  6\n",
      "Sum =  13\n"
     ]
    }
   ],
   "source": [
    "# program to find sum of multiple numbers \n",
    "\n",
    "def find_sum(*numbers):\n",
    "    result = 0\n",
    "    \n",
    "    for num in numbers:\n",
    "        result = result + num\n",
    "    \n",
    "    print(\"Sum = \", result)\n",
    "\n",
    "# function call with 3 arguments\n",
    "find_sum(1, 2, 3)\n",
    "\n",
    "# function call with 2 arguments\n",
    "find_sum(4, 9)"
   ]
  },
  {
   "cell_type": "markdown",
   "id": "f04dd147",
   "metadata": {},
   "source": [
    "### Keyword Arbitary"
   ]
  },
  {
   "cell_type": "code",
   "execution_count": 4,
   "id": "1bd105a4",
   "metadata": {},
   "outputs": [
    {
     "name": "stdout",
     "output_type": "stream",
     "text": [
      "name: Alice\n",
      "age: 30\n",
      "country: USA\n",
      "occupation: Engineer\n"
     ]
    }
   ],
   "source": [
    "def display_info(**kwargs):\n",
    "    for key, value in kwargs.items():\n",
    "        print(f\"{key}: {value}\")\n",
    "\n",
    "# Passing keyword arguments to the function\n",
    "display_info(name=\"Alice\", age=30, country=\"USA\", occupation=\"Engineer\")"
   ]
  },
  {
   "cell_type": "markdown",
   "id": "c80cc364",
   "metadata": {},
   "source": [
    "## Recursive fn "
   ]
  },
  {
   "cell_type": "markdown",
   "id": "51a43679",
   "metadata": {},
   "source": [
    "- function which calls itself\n",
    "- it has limit of 1000"
   ]
  },
  {
   "cell_type": "code",
   "execution_count": 5,
   "id": "72f227fc",
   "metadata": {},
   "outputs": [
    {
     "name": "stdout",
     "output_type": "stream",
     "text": [
      "The factorial of 3 is 6\n"
     ]
    }
   ],
   "source": [
    "def factorial(x):\n",
    "    if x == 1:\n",
    "        return 1\n",
    "    else:\n",
    "        return (x * factorial(x-1))\n",
    "\n",
    "num = 3\n",
    "print(\"The factorial of\", num, \"is\", factorial(num))"
   ]
  },
  {
   "cell_type": "markdown",
   "id": "7f885e1a",
   "metadata": {},
   "source": [
    "#### Advantages of Recursion\n",
    "- Recursive functions make the code look clean and elegant.\n",
    "- A complex task can be broken down into simpler sub-problems using recursion.\n",
    "- Sequence generation is easier with recursion than using some nested iteration.\n",
    "#### Disadvantages of Recursion\n",
    "- Sometimes the logic behind recursion is hard to follow through.\n",
    "- Recursive calls are expensive (inefficient) as they take up a lot of memory and time.\n",
    "- Recursive functions are hard to debug."
   ]
  },
  {
   "cell_type": "markdown",
   "id": "901f101b",
   "metadata": {},
   "source": [
    "## Lambda fn "
   ]
  },
  {
   "cell_type": "markdown",
   "id": "c70c1266",
   "metadata": {},
   "source": [
    "- without function name\n",
    "- Anonymous function in concise form(few lines)"
   ]
  },
  {
   "cell_type": "code",
   "execution_count": 6,
   "id": "02437f6f",
   "metadata": {},
   "outputs": [
    {
     "name": "stdout",
     "output_type": "stream",
     "text": [
      "17\n"
     ]
    }
   ],
   "source": [
    "add=lambda x,y: x+y\n",
    "result=add(8,9)\n",
    "print(result)"
   ]
  },
  {
   "cell_type": "markdown",
   "id": "63859b5e",
   "metadata": {},
   "source": [
    "## Higher orde fn"
   ]
  },
  {
   "cell_type": "markdown",
   "id": "a9974c90",
   "metadata": {},
   "source": [
    "- A function that operate with another function or it contains other functions as a parameter,returns a function as output.\n",
    "- Ex: filter,map,reduce\n",
    "    - filter - used to filter elements from an iterable based on a certain condition\n",
    "    - map - It applies a function to all the items in an input iterables and returns a new iterables with the modified items.\n",
    "    - reduce - used to perform a computation on a list and return a single result"
   ]
  },
  {
   "cell_type": "code",
   "execution_count": 8,
   "id": "78539f78",
   "metadata": {},
   "outputs": [
    {
     "name": "stdout",
     "output_type": "stream",
     "text": [
      "[1, 3, 5]\n"
     ]
    }
   ],
   "source": [
    "# filter\n",
    "l1=[1,2,3,4,5]\n",
    "list_filter=list(filter(lambda a:a%2!=0,l1))\n",
    "print(list_filter)"
   ]
  },
  {
   "cell_type": "code",
   "execution_count": 9,
   "id": "9c5fa36e",
   "metadata": {},
   "outputs": [
    {
     "name": "stdout",
     "output_type": "stream",
     "text": [
      "[2, 4, 6, 8, 10]\n"
     ]
    }
   ],
   "source": [
    "# map\n",
    "l1=[1,2,3,4,5]\n",
    "list_map=list(map(lambda a:a*2,l1))\n",
    "print(list_map)"
   ]
  },
  {
   "cell_type": "code",
   "execution_count": 10,
   "id": "c804689e",
   "metadata": {},
   "outputs": [
    {
     "name": "stdout",
     "output_type": "stream",
     "text": [
      "120\n"
     ]
    }
   ],
   "source": [
    "# reduce\n",
    "from functools import reduce\n",
    "numbers=[1,2,3,4,5]\n",
    "product=reduce(lambda x,y: x*y, numbers)\n",
    "print(product)"
   ]
  },
  {
   "cell_type": "markdown",
   "id": "8c0cf00e",
   "metadata": {},
   "source": [
    "## Scope "
   ]
  },
  {
   "cell_type": "markdown",
   "id": "42157e36",
   "metadata": {},
   "source": [
    "- A variable scope specifies the region where we can access a variable.\n",
    "- 3 types\n",
    "    - global\n",
    "    - local\n",
    "    - nonlocal"
   ]
  },
  {
   "cell_type": "markdown",
   "id": "fcf796b9",
   "metadata": {},
   "source": [
    "### Local "
   ]
  },
  {
   "cell_type": "markdown",
   "id": "6c2e6a10",
   "metadata": {},
   "source": [
    "- variable declared inside a function belongs to the local scope \n",
    "- only be used inside that function"
   ]
  },
  {
   "cell_type": "code",
   "execution_count": 12,
   "id": "a0b586d2",
   "metadata": {},
   "outputs": [
    {
     "name": "stdout",
     "output_type": "stream",
     "text": [
      "Local Hello\n"
     ]
    },
    {
     "ename": "NameError",
     "evalue": "name 'message' is not defined",
     "output_type": "error",
     "traceback": [
      "\u001b[1;31m---------------------------------------------------------------------------\u001b[0m",
      "\u001b[1;31mNameError\u001b[0m                                 Traceback (most recent call last)",
      "\u001b[1;32m~\\AppData\\Local\\Temp\\ipykernel_7152\\58019250.py\u001b[0m in \u001b[0;36m<module>\u001b[1;34m\u001b[0m\n\u001b[0;32m     10\u001b[0m \u001b[1;31m# try to access message variable\u001b[0m\u001b[1;33m\u001b[0m\u001b[1;33m\u001b[0m\u001b[0m\n\u001b[0;32m     11\u001b[0m \u001b[1;31m# outside greet() function\u001b[0m\u001b[1;33m\u001b[0m\u001b[1;33m\u001b[0m\u001b[0m\n\u001b[1;32m---> 12\u001b[1;33m \u001b[0mprint\u001b[0m\u001b[1;33m(\u001b[0m\u001b[0mmessage\u001b[0m\u001b[1;33m)\u001b[0m\u001b[1;33m\u001b[0m\u001b[1;33m\u001b[0m\u001b[0m\n\u001b[0m",
      "\u001b[1;31mNameError\u001b[0m: name 'message' is not defined"
     ]
    }
   ],
   "source": [
    "def greet():\n",
    "\n",
    "    # local variable\n",
    "    message = 'Hello'\n",
    "    \n",
    "    print('Local', message)\n",
    "\n",
    "greet()\n",
    "\n",
    "# try to access message variable \n",
    "# outside greet() function\n",
    "print(message)"
   ]
  },
  {
   "cell_type": "markdown",
   "id": "77fce65c",
   "metadata": {},
   "source": [
    "### Global"
   ]
  },
  {
   "cell_type": "markdown",
   "id": "eeddfc67",
   "metadata": {},
   "source": [
    "- variable declared outside of the function or in global scope. \n",
    "- can be accessed inside or outside of the function.\n",
    "- use global keyword to modify the variable outside of the current scope."
   ]
  },
  {
   "cell_type": "code",
   "execution_count": 14,
   "id": "18ab71f7",
   "metadata": {},
   "outputs": [
    {
     "name": "stdout",
     "output_type": "stream",
     "text": [
      "Local Hello\n",
      "Global Hello\n"
     ]
    }
   ],
   "source": [
    "# declare global variable\n",
    "message = 'Hello'\n",
    "\n",
    "def greet():\n",
    "    # declare local variable\n",
    "    print('Local', message)\n",
    "\n",
    "greet()\n",
    "print('Global', message)"
   ]
  },
  {
   "cell_type": "code",
   "execution_count": 17,
   "id": "7968013b",
   "metadata": {},
   "outputs": [
    {
     "name": "stdout",
     "output_type": "stream",
     "text": [
      "3\n"
     ]
    }
   ],
   "source": [
    "# global keyword\n",
    "# global variable\n",
    "c = 1 \n",
    "\n",
    "def add():\n",
    "\n",
    "    # use of global keyword\n",
    "    global c\n",
    "\n",
    "    # increment c by 2\n",
    "    c = c + 2 \n",
    "\n",
    "    print(c)\n",
    "\n",
    "add() "
   ]
  },
  {
   "cell_type": "markdown",
   "id": "243fd7e9",
   "metadata": {},
   "source": [
    "### Nonlocal "
   ]
  },
  {
   "cell_type": "markdown",
   "id": "050ff0dc",
   "metadata": {},
   "source": [
    "-  used in nested functions whose local scope is not defined. \n",
    "- variable can be neither in the local nor the global scope.\n",
    "- use the nonlocal keyword\n",
    "- change in nonlocal variable reflect in local variable too"
   ]
  },
  {
   "cell_type": "code",
   "execution_count": 15,
   "id": "91fb79a9",
   "metadata": {},
   "outputs": [
    {
     "name": "stdout",
     "output_type": "stream",
     "text": [
      "inner: nonlocal\n",
      "outer: nonlocal\n"
     ]
    }
   ],
   "source": [
    "# outside function \n",
    "def outer():\n",
    "    message = 'local'\n",
    "\n",
    "    # nested function  \n",
    "    def inner():\n",
    "\n",
    "        # declare nonlocal variable\n",
    "        nonlocal message\n",
    "\n",
    "        message = 'nonlocal'\n",
    "        print(\"inner:\", message)\n",
    "\n",
    "    inner()\n",
    "    print(\"outer:\", message)\n",
    "\n",
    "outer()"
   ]
  },
  {
   "cell_type": "markdown",
   "id": "9a032666",
   "metadata": {},
   "source": [
    "## Decorators"
   ]
  },
  {
   "cell_type": "markdown",
   "id": "0903eac5",
   "metadata": {},
   "source": [
    "- allows you to modify or extend the behavior of functions or classes without directly changing their code.\n",
    "- They essentially wrap another function, modifying its behavior.\n",
    "- use the @decorator_name syntax"
   ]
  },
  {
   "cell_type": "code",
   "execution_count": 18,
   "id": "9a4294f2",
   "metadata": {},
   "outputs": [
    {
     "name": "stdout",
     "output_type": "stream",
     "text": [
      "Something is happening before the function is called.\n",
      "Hello!\n",
      "Something is happening after the function is called.\n"
     ]
    }
   ],
   "source": [
    "# Define a simple decorator\n",
    "def my_decorator(func):\n",
    "    def wrapper():\n",
    "        print(\"Something is happening before the function is called.\")\n",
    "        func()  # Call the original function\n",
    "        print(\"Something is happening after the function is called.\")\n",
    "    return wrapper\n",
    "\n",
    "# Apply the decorator using the @ syntax\n",
    "@my_decorator\n",
    "def say_hello():\n",
    "    print(\"Hello!\")\n",
    "\n",
    "# Call the decorated function\n",
    "say_hello()"
   ]
  },
  {
   "cell_type": "markdown",
   "id": "d74c7249",
   "metadata": {},
   "source": [
    "## Module\n",
    "- a Module is a.py file containing Python code. \n",
    "- We can import all objects in a module at once by using the asterisk (*) operator\n",
    "- no __init__  .py file is required to create a package\n",
    "- Multiple Python functions make up a module "
   ]
  },
  {
   "cell_type": "markdown",
   "id": "c99d90ca",
   "metadata": {},
   "source": [
    "## package\n",
    "- A package is a container that contains various functions to perform specific tasks.\n",
    "- A directory must contain a file named __init__.py in order for Python to consider it as a package.This file can be left empty \n",
    "but we generally place the initialization code for that package in this file\n",
    "- A Package is a directory containing numerous modules and sub-packages\n",
    "- An __init__  .py file is required to create a package\n",
    "- we can’t import all modules in a package at once.\n",
    "- multiple Python modules make up a Package"
   ]
  },
  {
   "cell_type": "code",
   "execution_count": null,
   "id": "1b23e48f",
   "metadata": {},
   "outputs": [],
   "source": []
  }
 ],
 "metadata": {
  "kernelspec": {
   "display_name": "Python 3 (ipykernel)",
   "language": "python",
   "name": "python3"
  },
  "language_info": {
   "codemirror_mode": {
    "name": "ipython",
    "version": 3
   },
   "file_extension": ".py",
   "mimetype": "text/x-python",
   "name": "python",
   "nbconvert_exporter": "python",
   "pygments_lexer": "ipython3",
   "version": "3.9.13"
  }
 },
 "nbformat": 4,
 "nbformat_minor": 5
}
