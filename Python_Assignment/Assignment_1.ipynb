{
 "cells": [
  {
   "cell_type": "markdown",
   "id": "e057131f",
   "metadata": {},
   "source": [
    "# Different Sample Programs of python"
   ]
  },
  {
   "cell_type": "code",
   "execution_count": null,
   "id": "357aa70d",
   "metadata": {},
   "outputs": [],
   "source": []
  },
  {
   "cell_type": "markdown",
   "id": "6495e07e",
   "metadata": {},
   "source": [
    "- 1)Create a python program to sort the given list of tuples based on integer value using a\n",
    "lambda function.\n",
    "[('Sachin Tendulkar', 34357), ('Ricky Ponting', 27483), ('Jack Kallis', 25534), ('Virat Kohli',\n",
    "24936)]"
   ]
  },
  {
   "cell_type": "code",
   "execution_count": 1,
   "id": "3c7225da",
   "metadata": {},
   "outputs": [
    {
     "name": "stdout",
     "output_type": "stream",
     "text": [
      "Sorted list based on scores:\n",
      "[('Virat Kohli', 24936), ('Jack Kallis', 25534), ('Ricky Ponting', 27483), ('Sachin Tendulkar', 34357)]\n"
     ]
    }
   ],
   "source": [
    "# 1\n",
    "player_scores = [('Sachin Tendulkar', 34357), ('Ricky Ponting', 27483), ('Jack Kallis', 25534), ('Virat Kohli', 24936)]\n",
    "sorted_list = sorted(player_scores, key=lambda x: x[1])\n",
    "print(\"Sorted list based on scores:\")\n",
    "print(sorted_list)"
   ]
  },
  {
   "cell_type": "code",
   "execution_count": null,
   "id": "55f90d0b",
   "metadata": {},
   "outputs": [],
   "source": []
  },
  {
   "cell_type": "code",
   "execution_count": null,
   "id": "0d717b44",
   "metadata": {},
   "outputs": [],
   "source": []
  },
  {
   "cell_type": "markdown",
   "id": "532773b2",
   "metadata": {},
   "source": [
    "- 2)Write a Python Program to find the squares of all the numbers in the given list of integers\n",
    "using lambda and map functions.\n",
    "[1, 2, 3, 4, 5, 6, 7, 8, 9, 10]"
   ]
  },
  {
   "cell_type": "code",
   "execution_count": 2,
   "id": "5c0c4791",
   "metadata": {},
   "outputs": [
    {
     "name": "stdout",
     "output_type": "stream",
     "text": [
      "List of squares:\n",
      "[1, 4, 9, 16, 25, 36, 49, 64, 81, 100]\n"
     ]
    }
   ],
   "source": [
    "# 2\n",
    "numbers = [1, 2, 3, 4, 5, 6, 7, 8, 9, 10]\n",
    "squares = list(map(lambda x: x**2, numbers))\n",
    "print(\"List of squares:\")\n",
    "print(squares)"
   ]
  },
  {
   "cell_type": "code",
   "execution_count": null,
   "id": "61cc278f",
   "metadata": {},
   "outputs": [],
   "source": []
  },
  {
   "cell_type": "code",
   "execution_count": null,
   "id": "357696a1",
   "metadata": {},
   "outputs": [],
   "source": []
  },
  {
   "cell_type": "markdown",
   "id": "113d8c4e",
   "metadata": {},
   "source": [
    "- 3)Write a python program to convert the given list of integers into a tuple of strings. Use map\n",
    "and lambda functions\n",
    "Given String: [1, 2, 3, 4, 5, 6, 7, 8, 9, 10]\n",
    "Expected output: ('1', '2', '3', '4', '5', '6', '7', '8', '9', '10')"
   ]
  },
  {
   "cell_type": "code",
   "execution_count": 3,
   "id": "07b13a44",
   "metadata": {},
   "outputs": [
    {
     "name": "stdout",
     "output_type": "stream",
     "text": [
      "Tuple of strings:\n",
      "('1', '2', '3', '4', '5', '6', '7', '8', '9', '10')\n"
     ]
    }
   ],
   "source": [
    "# 3\n",
    "numbers = [1, 2, 3, 4, 5, 6, 7, 8, 9, 10]\n",
    "string_numbers = map(lambda x: str(x), numbers)\n",
    "tuple_of_strings = tuple(string_numbers)\n",
    "print(\"Tuple of strings:\")\n",
    "print(tuple_of_strings)"
   ]
  },
  {
   "cell_type": "code",
   "execution_count": null,
   "id": "8e441ccf",
   "metadata": {},
   "outputs": [],
   "source": []
  },
  {
   "cell_type": "code",
   "execution_count": null,
   "id": "6efbe2ca",
   "metadata": {},
   "outputs": [],
   "source": []
  },
  {
   "cell_type": "markdown",
   "id": "79514c4d",
   "metadata": {},
   "source": [
    "- 4)Write a python program using reduce function to compute the product of a list containing\n",
    "numbers from 1 to 25."
   ]
  },
  {
   "cell_type": "code",
   "execution_count": 4,
   "id": "980cae95",
   "metadata": {},
   "outputs": [
    {
     "name": "stdout",
     "output_type": "stream",
     "text": [
      "The product of numbers from 1 to 25 is:\n",
      "15511210043330985984000000\n"
     ]
    }
   ],
   "source": [
    "# 4\n",
    "from functools import reduce\n",
    "numbers = list(range(1, 26))\n",
    "product_result = reduce(lambda x, y: x * y, numbers)\n",
    "print(\"The product of numbers from 1 to 25 is:\")\n",
    "print(product_result)"
   ]
  },
  {
   "cell_type": "code",
   "execution_count": null,
   "id": "b9571582",
   "metadata": {},
   "outputs": [],
   "source": []
  },
  {
   "cell_type": "code",
   "execution_count": null,
   "id": "e42b32db",
   "metadata": {},
   "outputs": [],
   "source": []
  },
  {
   "cell_type": "markdown",
   "id": "dc588f33",
   "metadata": {},
   "source": [
    "- 5)Write a python program to filter the numbers in a given list that are divisible by 2 and 3\n",
    "[2, 3, 6, 9, 27, 60, 90, 120, 55, 46]"
   ]
  },
  {
   "cell_type": "code",
   "execution_count": 5,
   "id": "59072da7",
   "metadata": {},
   "outputs": [
    {
     "name": "stdout",
     "output_type": "stream",
     "text": [
      "Numbers divisible by both 2 and 3:\n",
      "[6, 60, 90, 120]\n"
     ]
    }
   ],
   "source": [
    "# 5\n",
    "numbers = [2, 3, 6, 9, 27, 60, 90, 120, 55, 46]\n",
    "filtered_numbers = list(filter(lambda x: x % 2 == 0 and x % 3 == 0, numbers))\n",
    "print(\"Numbers divisible by both 2 and 3:\")\n",
    "print(filtered_numbers)"
   ]
  },
  {
   "cell_type": "code",
   "execution_count": null,
   "id": "004b60c2",
   "metadata": {},
   "outputs": [],
   "source": []
  },
  {
   "cell_type": "code",
   "execution_count": null,
   "id": "c4a614ca",
   "metadata": {},
   "outputs": [],
   "source": []
  },
  {
   "cell_type": "markdown",
   "id": "83f28e84",
   "metadata": {},
   "source": [
    "- Write a python program to find palindromes in the given list of strings using lambda and\n",
    "filter function.\n",
    "['python', 'php', 'aba', 'radar', 'level']"
   ]
  },
  {
   "cell_type": "code",
   "execution_count": 6,
   "id": "8490e0d3",
   "metadata": {},
   "outputs": [
    {
     "name": "stdout",
     "output_type": "stream",
     "text": [
      "Palindromes in the list:\n",
      "['php', 'aba', 'radar', 'level']\n"
     ]
    }
   ],
   "source": [
    "# 6\n",
    "words = ['python', 'php', 'aba', 'radar', 'level']\n",
    "palindromes = list(filter(lambda x: x == x[::-1], words))\n",
    "print(\"Palindromes in the list:\")\n",
    "print(palindromes)"
   ]
  },
  {
   "cell_type": "code",
   "execution_count": null,
   "id": "c6fec4a5",
   "metadata": {},
   "outputs": [],
   "source": []
  },
  {
   "cell_type": "code",
   "execution_count": null,
   "id": "0584108d",
   "metadata": {},
   "outputs": [],
   "source": []
  }
 ],
 "metadata": {
  "kernelspec": {
   "display_name": "Python 3 (ipykernel)",
   "language": "python",
   "name": "python3"
  },
  "language_info": {
   "codemirror_mode": {
    "name": "ipython",
    "version": 3
   },
   "file_extension": ".py",
   "mimetype": "text/x-python",
   "name": "python",
   "nbconvert_exporter": "python",
   "pygments_lexer": "ipython3",
   "version": "3.9.13"
  }
 },
 "nbformat": 4,
 "nbformat_minor": 5
}
