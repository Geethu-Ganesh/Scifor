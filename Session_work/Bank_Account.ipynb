{
 "cells": [
  {
   "cell_type": "code",
   "execution_count": 6,
   "id": "fb421ba0",
   "metadata": {},
   "outputs": [
    {
     "name": "stdout",
     "output_type": "stream",
     "text": [
      " current balance after withdraw: 1000\n",
      " current balance after deposit: 3000\n",
      "Wrong Pin\n"
     ]
    }
   ],
   "source": [
    "class BankAccount:\n",
    "#initializing all the necessary variables\n",
    "    def __init__(self,Customer_name,Customer_pin,Bank_balance):\n",
    "        self.Customer_name=Customer_name\n",
    "        self.Customer_pin=Customer_pin\n",
    "        self.Bank_balance=Bank_balance\n",
    "        Bank_balance=2000  #initial amount in account\n",
    "        \n",
    "        \n",
    "    def Withdraw(self,Entered_pin,amount):\n",
    "        if Entered_pin != self.Customer_pin:\n",
    "            print(\"Wrong Pin\")\n",
    "        else:\n",
    "            self.Bank_balance -= amount\n",
    "            print(f\" current balance after withdraw: {self.Bank_balance}\")\n",
    "    \n",
    "    def Deposit(self,amount,Entered_pin):\n",
    "        if Entered_pin != self.Customer_pin:\n",
    "            print(\"Wrong Pin\")\n",
    "        else:\n",
    "            self.Bank_balance += amount\n",
    "            print(f\" current balance after deposit: {self.Bank_balance}\")\n",
    "                  \n",
    "                  \n",
    "Bank_Account1=BankAccount(\"Geethu\",\"1111\",2000)\n",
    "Bank_Account1.Withdraw(\"1111\",1000)\n",
    "Bank_Account1.Deposit(2000,\"1111\")\n",
    "\n",
    "# giving wrong pin\n",
    "Bank_Account1.Deposit(2000,\"1112\")\n",
    "\n",
    "            "
   ]
  },
  {
   "cell_type": "code",
   "execution_count": null,
   "id": "3a736e2a",
   "metadata": {},
   "outputs": [],
   "source": []
  }
 ],
 "metadata": {
  "kernelspec": {
   "display_name": "Python 3 (ipykernel)",
   "language": "python",
   "name": "python3"
  },
  "language_info": {
   "codemirror_mode": {
    "name": "ipython",
    "version": 3
   },
   "file_extension": ".py",
   "mimetype": "text/x-python",
   "name": "python",
   "nbconvert_exporter": "python",
   "pygments_lexer": "ipython3",
   "version": "3.9.13"
  }
 },
 "nbformat": 4,
 "nbformat_minor": 5
}
