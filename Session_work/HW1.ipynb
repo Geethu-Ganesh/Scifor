{
 "cells": [
  {
   "cell_type": "code",
   "execution_count": null,
   "id": "e6d68dfe",
   "metadata": {},
   "outputs": [],
   "source": [
    "# syntax of decision making sentences\n",
    "# if\n",
    "if condition:\n",
    "    statement()\n",
    "    \n",
    "    \n",
    "    \n",
    "# if-else\n",
    "if condition:\n",
    "    statement()\n",
    "else condition:\n",
    "    statement()\n",
    "    \n",
    "    \n",
    "# nested if\n",
    "if condition1:\n",
    "    if condition2:\n",
    "        if condition1:\n",
    "            statement1()\n",
    "        else:\n",
    "            statement2()\n",
    "    else:\n",
    "        statement3()\n",
    "else:\n",
    "    statement4()\n",
    "    \n",
    "    \n",
    "# elif \n",
    "if condition-1:    \n",
    "    Statement-1  \n",
    "  \n",
    "elif condition-2:    \n",
    "    Statement-2  \n",
    "  \n",
    "elif condition-3:    \n",
    "    Statement-3  \n",
    "  \n",
    "elif condition-n:    \n",
    "    Statement-n  \n",
    "  \n",
    "else:     \n",
    "    Default Statement  \n"
   ]
  },
  {
   "cell_type": "code",
   "execution_count": null,
   "id": "2035f788",
   "metadata": {},
   "outputs": [],
   "source": [
    "No limit"
   ]
  },
  {
   "cell_type": "code",
   "execution_count": 2,
   "id": "3c7489af",
   "metadata": {},
   "outputs": [
    {
     "name": "stdout",
     "output_type": "stream",
     "text": [
      "Enter age : 17\n",
      "Not Eligible for Voting!\n"
     ]
    }
   ],
   "source": [
    "age = int(input(\"Enter age : \"))\n",
    "\n",
    "if age >= 18:\n",
    "    print(\"Eligible for Voting!\")\n",
    "else:\n",
    "    print(\"Not Eligible for Voting!\")"
   ]
  },
  {
   "cell_type": "code",
   "execution_count": 3,
   "id": "9816036a",
   "metadata": {},
   "outputs": [
    {
     "name": "stdout",
     "output_type": "stream",
     "text": [
      "Enter your number\n",
      "10\n",
      "Hello\n"
     ]
    }
   ],
   "source": [
    "print(\"Enter your number\")\n",
    "num=int(input())\n",
    "if num%5==0:\n",
    "  print(\"Hello\")\n",
    "else:\n",
    "  print(\"Bye\")"
   ]
  },
  {
   "cell_type": "code",
   "execution_count": 4,
   "id": "87ab9492",
   "metadata": {},
   "outputs": [
    {
     "name": "stdout",
     "output_type": "stream",
     "text": [
      "Please Enter any Number: 15\n",
      "The Last Digit in a Given Number 15 = 5\n"
     ]
    }
   ],
   "source": [
    "number = int(input(\"Please Enter any Number: \"))\n",
    "\n",
    "last_digit = number % 10\n",
    "\n",
    "print(\"The Last Digit in a Given Number %d = %d\" %(number, last_digit))"
   ]
  },
  {
   "cell_type": "code",
   "execution_count": null,
   "id": "20262e28",
   "metadata": {},
   "outputs": [],
   "source": []
  }
 ],
 "metadata": {
  "kernelspec": {
   "display_name": "Python 3 (ipykernel)",
   "language": "python",
   "name": "python3"
  },
  "language_info": {
   "codemirror_mode": {
    "name": "ipython",
    "version": 3
   },
   "file_extension": ".py",
   "mimetype": "text/x-python",
   "name": "python",
   "nbconvert_exporter": "python",
   "pygments_lexer": "ipython3",
   "version": "3.9.13"
  }
 },
 "nbformat": 4,
 "nbformat_minor": 5
}
