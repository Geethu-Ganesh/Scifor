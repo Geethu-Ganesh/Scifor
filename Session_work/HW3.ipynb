{
 "cells": [
  {
   "cell_type": "markdown",
   "id": "fefe3b92",
   "metadata": {},
   "source": [
    "# Procedural Programming\n",
    "- It is a programming language that is derived from structure programming and based upon the concept of calling procedures.\n",
    "- It is less secure than OOPs.\n",
    "- It follows a top-down approach.\n",
    "- data moves freely within the system from one function to another.\n",
    "- There are no access modifiers in procedural programming.\n",
    "- There is no code reusability present in procedural programming.\n"
   ]
  },
  {
   "cell_type": "markdown",
   "id": "2758ffb0",
   "metadata": {},
   "source": [
    "# Object-oriented programming\n",
    "- Data hiding is possible in object-oriented programming due to abstraction. So, it is more secure than procedural programming.\n",
    "- It follows a bottom-up approach.\n",
    "- It is object-oriented.\n",
    "- In OOP, objects can move and communicate with each other via member functions.\n",
    "- The access modifiers in OOP are named as private, public, and protected.\n",
    "- It offers code reusability by using the feature of inheritance.\n"
   ]
  },
  {
   "cell_type": "code",
   "execution_count": null,
   "id": "a295a370",
   "metadata": {},
   "outputs": [],
   "source": []
  }
 ],
 "metadata": {
  "kernelspec": {
   "display_name": "Python 3 (ipykernel)",
   "language": "python",
   "name": "python3"
  },
  "language_info": {
   "codemirror_mode": {
    "name": "ipython",
    "version": 3
   },
   "file_extension": ".py",
   "mimetype": "text/x-python",
   "name": "python",
   "nbconvert_exporter": "python",
   "pygments_lexer": "ipython3",
   "version": "3.9.13"
  }
 },
 "nbformat": 4,
 "nbformat_minor": 5
}
