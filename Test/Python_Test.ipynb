{
 "cells": [
  {
   "cell_type": "markdown",
   "id": "49cc6e90",
   "metadata": {},
   "source": [
    "### Q21\n",
    "- Create a dictionary called fruits with the following key-value pairs. Then print out the price of banana"
   ]
  },
  {
   "cell_type": "code",
   "execution_count": 5,
   "id": "32139269",
   "metadata": {},
   "outputs": [
    {
     "name": "stdout",
     "output_type": "stream",
     "text": [
      "Apple price: 0.75\n",
      "Banana price: 1.25\n",
      "Orange price: 0.9\n"
     ]
    }
   ],
   "source": [
    "fruits={\n",
    "    \"Apple\":0.75,\n",
    "    \"Banana\":1.25,\n",
    "    \"Orange\":0.90\n",
    "}\n",
    "\n",
    "Apple_price =fruits[\"Apple\"]\n",
    "Banana_price =fruits[\"Banana\"]\n",
    "Orange_price =fruits[\"Orange\"]\n",
    "print(\"Apple price:\",Apple_price)\n",
    "print(\"Banana price:\",banana_price)\n",
    "print(\"Orange price:\",Orange_price)"
   ]
  },
  {
   "cell_type": "code",
   "execution_count": null,
   "id": "ff4a1fb9",
   "metadata": {},
   "outputs": [],
   "source": []
  },
  {
   "cell_type": "code",
   "execution_count": null,
   "id": "372c03e4",
   "metadata": {},
   "outputs": [],
   "source": []
  }
 ],
 "metadata": {
  "kernelspec": {
   "display_name": "Python 3 (ipykernel)",
   "language": "python",
   "name": "python3"
  },
  "language_info": {
   "codemirror_mode": {
    "name": "ipython",
    "version": 3
   },
   "file_extension": ".py",
   "mimetype": "text/x-python",
   "name": "python",
   "nbconvert_exporter": "python",
   "pygments_lexer": "ipython3",
   "version": "3.9.13"
  }
 },
 "nbformat": 4,
 "nbformat_minor": 5
}
